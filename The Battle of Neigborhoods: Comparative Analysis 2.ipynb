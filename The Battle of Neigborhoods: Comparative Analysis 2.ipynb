{
    "cells": [
        {
            "cell_type": "markdown",
            "metadata": {
                "collapsed": true
            },
            "source": "# The Battle of Neighborhoods: A Comparative Analysis 2"
        },
        {
            "cell_type": "markdown",
            "metadata": {},
            "source": "## Data Section"
        },
        {
            "cell_type": "markdown",
            "metadata": {},
            "source": "This project will use Foursquare's Location Data to generate information which can be accessed at any time by individuals intending to make informed decisions on which neighborhood to relocate to at different stages in their life. Foursquare Location Data will be used to segment and cluster at least two neighborhoods and then make a comparative analysis of the neighborhoods. The comparative analysis will highlight the characteristics of the concerned neighborhoods (such as proximity to one's workplace, schools, etc), the main features of each neighborhood (prominent shopping malls, the best schools, etc), the most popular venues (fitness centres, recreational clubs, community libraries, game centres, etc), and creation of neighborhood maps with associated markers (for most popular venues, schools, shopping mall, etc), among other details. This information would the be used to give recommendations on the most suitable neighborhood for the different stages of life for the target audience. The choice of Foursquare Location Data is influenced by the fact that Foursquare's Location Data is known to be updated continuously which ensures that the data is always up to date. The data is also readily accessible and account creation to access the data is very simple and quick."
        },
        {
            "cell_type": "code",
            "execution_count": null,
            "metadata": {},
            "outputs": [],
            "source": ""
        }
    ],
    "metadata": {
        "kernelspec": {
            "display_name": "Python 3.6",
            "language": "python",
            "name": "python3"
        },
        "language_info": {
            "codemirror_mode": {
                "name": "ipython",
                "version": 3
            },
            "file_extension": ".py",
            "mimetype": "text/x-python",
            "name": "python",
            "nbconvert_exporter": "python",
            "pygments_lexer": "ipython3",
            "version": "3.6.9"
        }
    },
    "nbformat": 4,
    "nbformat_minor": 1
}
