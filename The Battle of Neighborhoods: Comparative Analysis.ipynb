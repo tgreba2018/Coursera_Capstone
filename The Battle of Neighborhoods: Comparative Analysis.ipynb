{
    "cells": [
        {
            "cell_type": "markdown",
            "metadata": {
                "collapsed": true
            },
            "source": "# The Battle of Neighborhoods: A Comparative Analysis"
        },
        {
            "cell_type": "markdown",
            "metadata": {},
            "source": "## Introduction/Business Problem"
        },
        {
            "cell_type": "markdown",
            "metadata": {},
            "source": "The problem to be addressed by this project is \"The Choice of Neighborhood to Live in at Different Life Stages.\" The choice of problem is influenced by the facts of life which present different tastes and needs for individuals at different stages of the 'Human Life Cycle' which almost always influences the choice of neighborhood one would prefer to live in. \n\nThe target audience for this project are those independent individuals who have the freedom to choose where to live at the different stages of their life such as recent university graduates who are taking up their first job and have the choice of leaving their parents' home and start an independent life. These individuals will have different needs and expectations at different stages of their life as circumstances that may dictate their choices change as pass through the different stages of life.\n\nThis project seeks to assist these individuals with the information they would need to enable them to make informed decisions. The information will be updated continuously so that it will be useful to influence neighborhood choice decisions at all the stages of these individuals' life. "
        },
        {
            "cell_type": "code",
            "execution_count": null,
            "metadata": {},
            "outputs": [],
            "source": ""
        }
    ],
    "metadata": {
        "kernelspec": {
            "display_name": "Python 3.6",
            "language": "python",
            "name": "python3"
        },
        "language_info": {
            "codemirror_mode": {
                "name": "ipython",
                "version": 3
            },
            "file_extension": ".py",
            "mimetype": "text/x-python",
            "name": "python",
            "nbconvert_exporter": "python",
            "pygments_lexer": "ipython3",
            "version": "3.6.9"
        }
    },
    "nbformat": 4,
    "nbformat_minor": 1
}